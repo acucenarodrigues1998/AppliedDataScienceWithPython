{
  "nbformat": 4,
  "nbformat_minor": 0,
  "metadata": {
    "colab": {
      "name": "week3.ipynb",
      "provenance": []
    },
    "kernelspec": {
      "name": "python3",
      "display_name": "Python 3"
    }
  },
  "cells": [
    {
      "cell_type": "code",
      "metadata": {
        "id": "sd_Of6M3JWHU",
        "colab_type": "code",
        "colab": {}
      },
      "source": [
        "%matplotlib inline\n",
        "#%matplotlib notebook\n",
        "\n",
        "import matplotlib.pyplot as plt\n",
        "import numpy as np\n"
      ],
      "execution_count": 0,
      "outputs": []
    },
    {
      "cell_type": "markdown",
      "metadata": {
        "id": "j-abYLLpUtWD",
        "colab_type": "text"
      },
      "source": [
        "### Subplots"
      ]
    },
    {
      "cell_type": "code",
      "metadata": {
        "id": "rb_zM9bfNc0x",
        "colab_type": "code",
        "colab": {}
      },
      "source": [
        "plt.subplot?"
      ],
      "execution_count": 0,
      "outputs": []
    },
    {
      "cell_type": "code",
      "metadata": {
        "id": "S6boWD00RpOu",
        "colab_type": "code",
        "outputId": "b4842f52-ce4e-4d08-9822-791deb83bb2c",
        "colab": {
          "base_uri": "https://localhost:8080/",
          "height": 282
        }
      },
      "source": [
        "plt.figure()\n",
        "plt.subplot(1,2,1)\n",
        "\n",
        "linear_data = np.array([x for x in range(1,9)])\n",
        "\n",
        "plt.plot(linear_data, '-o')"
      ],
      "execution_count": 0,
      "outputs": [
        {
          "output_type": "execute_result",
          "data": {
            "text/plain": [
              "[<matplotlib.lines.Line2D at 0x7fba867c5d68>]"
            ]
          },
          "metadata": {
            "tags": []
          },
          "execution_count": 3
        },
        {
          "output_type": "display_data",
          "data": {
            "image/png": "[encoded data removed]",
            "text/plain": [
              "<Figure size 432x288 with 1 Axes>"
            ]
          },
          "metadata": {
            "tags": []
          }
        }
      ]
    },
    {
      "cell_type": "code",
      "metadata": {
        "id": "g-GXvcmISN_T",
        "colab_type": "code",
        "outputId": "ba68fc5b-7af0-43b7-fa84-93a5d0374643",
        "colab": {
          "base_uri": "https://localhost:8080/",
          "height": 282
        }
      },
      "source": [
        "plt.figure()\n",
        "plt.subplot(1,2,1)\n",
        "\n",
        "linear_data = np.array([x for x in range(1,9)])\n",
        "\n",
        "plt.plot(linear_data, '-o')\n",
        "\n",
        "exponential_data = linear_data**2\n",
        "plt.subplot(1,2,2)\n",
        "plt.plot(exponential_data, '-o')"
      ],
      "execution_count": 0,
      "outputs": [
        {
          "output_type": "execute_result",
          "data": {
            "text/plain": [
              "[<matplotlib.lines.Line2D at 0x7fba8621e860>]"
            ]
          },
          "metadata": {
            "tags": []
          },
          "execution_count": 4
        },
        {
          "output_type": "display_data",
          "data": {
            "image/png": "[encoded data removed]",
            "text/plain": [
              "<Figure size 432x288 with 2 Axes>"
            ]
          },
          "metadata": {
            "tags": []
          }
        }
      ]
    },
    {
      "cell_type": "code",
      "metadata": {
        "id": "QGqvUmR8S1IP",
        "colab_type": "code",
        "outputId": "c8aa037c-d60a-421e-8072-a6da99df765c",
        "colab": {
          "base_uri": "https://localhost:8080/",
          "height": 336
        }
      },
      "source": [
        "plt.figure()\n",
        "plt.subplot(1,2,1)\n",
        "\n",
        "linear_data = np.array([x for x in range(1,9)])\n",
        "\n",
        "plt.plot(linear_data, '-o')\n",
        "\n",
        "exponential_data = linear_data**2\n",
        "plt.subplot(1,2,2)\n",
        "plt.plot(exponential_data, '-o')\n",
        "\n",
        "plt.subplot(1,2,1)\n",
        "plt.plot(exponential_data, '-x')"
      ],
      "execution_count": 0,
      "outputs": [
        {
          "output_type": "stream",
          "text": [
            "/usr/local/lib/python3.6/dist-packages/ipykernel_launcher.py:12: MatplotlibDeprecationWarning: Adding an axes using the same arguments as a previous axes currently reuses the earlier instance.  In a future version, a new instance will always be created and returned.  Meanwhile, this warning can be suppressed, and the future behavior ensured, by passing a unique label to each axes instance.\n",
            "  if sys.path[0] == '':\n"
          ],
          "name": "stderr"
        },
        {
          "output_type": "execute_result",
          "data": {
            "text/plain": [
              "[<matplotlib.lines.Line2D at 0x7fba86163940>]"
            ]
          },
          "metadata": {
            "tags": []
          },
          "execution_count": 5
        },
        {
          "output_type": "display_data",
          "data": {
            "image/png": "[encoded data removed]",
            "text/plain": [
              "<Figure size 432x288 with 2 Axes>"
            ]
          },
          "metadata": {
            "tags": []
          }
        }
      ]
    },
    {
      "cell_type": "code",
      "metadata": {
        "id": "B1T6O6YrTUM-",
        "colab_type": "code",
        "outputId": "4fcfa6ee-1d5b-4b9b-e74f-3bb99e45ff3a",
        "colab": {
          "base_uri": "https://localhost:8080/",
          "height": 282
        }
      },
      "source": [
        "plt.figure()\n",
        "ax1 = plt.subplot(1,2,1)\n",
        "plt.plot(linear_data, '-o')\n",
        "ax2 = plt.subplot(1,2,2, sharey=ax1)\n",
        "plt.plot(exponential_data, '-x')"
      ],
      "execution_count": 0,
      "outputs": [
        {
          "output_type": "execute_result",
          "data": {
            "text/plain": [
              "[<matplotlib.lines.Line2D at 0x7fba8609f400>]"
            ]
          },
          "metadata": {
            "tags": []
          },
          "execution_count": 6
        },
        {
          "output_type": "display_data",
          "data": {
            "image/png": "[encoded data removed]",
            "text/plain": [
              "<Figure size 432x288 with 2 Axes>"
            ]
          },
          "metadata": {
            "tags": []
          }
        }
      ]
    },
    {
      "cell_type": "code",
      "metadata": {
        "id": "HfyJORyLUDaS",
        "colab_type": "code",
        "outputId": "a68c8188-77f9-47b9-e4ec-343b68e891c7",
        "colab": {
          "base_uri": "https://localhost:8080/",
          "height": 340
        }
      },
      "source": [
        "plt.figure()\n",
        "plt.subplot(1,2,1) == plt.subplot(121) "
      ],
      "execution_count": 0,
      "outputs": [
        {
          "output_type": "stream",
          "text": [
            "/usr/local/lib/python3.6/dist-packages/ipykernel_launcher.py:2: MatplotlibDeprecationWarning: Adding an axes using the same arguments as a previous axes currently reuses the earlier instance.  In a future version, a new instance will always be created and returned.  Meanwhile, this warning can be suppressed, and the future behavior ensured, by passing a unique label to each axes instance.\n",
            "  \n"
          ],
          "name": "stderr"
        },
        {
          "output_type": "execute_result",
          "data": {
            "text/plain": [
              "True"
            ]
          },
          "metadata": {
            "tags": []
          },
          "execution_count": 7
        },
        {
          "output_type": "display_data",
          "data": {
            "image/png": "[encoded data removed]",
            "text/plain": [
              "<Figure size 432x288 with 1 Axes>"
            ]
          },
          "metadata": {
            "tags": []
          }
        }
      ]
    },
    {
      "cell_type": "code",
      "metadata": {
        "id": "Zbzzh8B5Uf91",
        "colab_type": "code",
        "outputId": "134d4578-880c-4083-ae13-a6a7f9a65152",
        "colab": {
          "base_uri": "https://localhost:8080/",
          "height": 265
        }
      },
      "source": [
        "fig, ((ax1, ax2, ax3), (ax4, ax5, ax6), (ax7, ax8, ax9)) = plt.subplots(3,3, \n",
        "                                                                        sharex=True,\n",
        "                                                                        sharey=True)\n",
        "ax5.plot(linear_data, '-')\n",
        "for ax in plt.gcf().get_axes():\n",
        "  for label in ax.get_xticklabels()+ax.get_yticklabels():\n",
        "    label.set_visible(True)"
      ],
      "execution_count": 0,
      "outputs": [
        {
          "output_type": "display_data",
          "data": {
            "image/png": "[encoded data removed]",
            "text/plain": [
              "<Figure size 432x288 with 9 Axes>"
            ]
          },
          "metadata": {
            "tags": []
          }
        }
      ]
    },
    {
      "cell_type": "markdown",
      "metadata": {
        "id": "I5K3hdUVWjaQ",
        "colab_type": "text"
      },
      "source": [
        "### Histograms"
      ]
    },
    {
      "cell_type": "code",
      "metadata": {
        "id": "EIJ5r5MfVWKo",
        "colab_type": "code",
        "outputId": "50bde8c5-04cb-4ed5-8d9e-4832d36bd351",
        "colab": {
          "base_uri": "https://localhost:8080/",
          "height": 281
        }
      },
      "source": [
        "fig, ((ax1, ax2), (ax3,ax4)) = plt.subplots(2,2,sharex=True)\n",
        "axs = [ax1, ax2, ax3, ax4]\n",
        "\n",
        "for n in range(0, len(axs)):\n",
        "  sample_size = 10**(n+1)\n",
        "  sample = np.random.normal(loc=0.0,scale=1.0,size=sample_size)\n",
        "  axs[n].hist(sample)\n",
        "  axs[n].set_title('n={}'.format(sample_size))"
      ],
      "execution_count": 0,
      "outputs": [
        {
          "output_type": "display_data",
          "data": {
            "image/png": "[encoded data removed]",
            "text/plain": [
              "<Figure size 432x288 with 4 Axes>"
            ]
          },
          "metadata": {
            "tags": []
          }
        }
      ]
    },
    {
      "cell_type": "code",
      "metadata": {
        "id": "sa0FVgOjfo4u",
        "colab_type": "code",
        "outputId": "b8026522-6745-443d-cb4c-00709c4f46a7",
        "colab": {
          "base_uri": "https://localhost:8080/",
          "height": 281
        }
      },
      "source": [
        "fig, ((ax1, ax2), (ax3,ax4)) = plt.subplots(2,2,sharex=True)\n",
        "axs = [ax1, ax2, ax3, ax4]\n",
        "\n",
        "for n in range(0, len(axs)):\n",
        "  sample_size = 10**(n+1)\n",
        "  sample = np.random.normal(loc=0.0,scale=1.0,size=sample_size)\n",
        "  axs[n].hist(sample, bins=100)\n",
        "  axs[n].set_title('n={}'.format(sample_size))"
      ],
      "execution_count": 0,
      "outputs": [
        {
          "output_type": "display_data",
          "data": {
            "image/png": "[encoded data removed]",
            "text/plain": [
              "<Figure size 432x288 with 4 Axes>"
            ]
          },
          "metadata": {
            "tags": []
          }
        }
      ]
    },
    {
      "cell_type": "code",
      "metadata": {
        "id": "JX5Wk23dgUg7",
        "colab_type": "code",
        "outputId": "213bcc63-11ed-45c2-a6b8-0580a3856b93",
        "colab": {
          "base_uri": "https://localhost:8080/",
          "height": 282
        }
      },
      "source": [
        "plt.figure()\n",
        "Y = np.random.normal(loc=0.0,scale=1.0,size=10000)\n",
        "X = np.random.random(size=10000)\n",
        "plt.scatter(X, Y)"
      ],
      "execution_count": 0,
      "outputs": [
        {
          "output_type": "execute_result",
          "data": {
            "text/plain": [
              "<matplotlib.collections.PathCollection at 0x7fba8571eeb8>"
            ]
          },
          "metadata": {
            "tags": []
          },
          "execution_count": 11
        },
        {
          "output_type": "display_data",
          "data": {
            "image/png": "[encoded data removed]",
            "text/plain": [
              "<Figure size 432x288 with 1 Axes>"
            ]
          },
          "metadata": {
            "tags": []
          }
        }
      ]
    },
    {
      "cell_type": "code",
      "metadata": {
        "id": "MNWWgHthhPHC",
        "colab_type": "code",
        "outputId": "190df7a9-f901-4729-b59a-5099082f3eea",
        "colab": {
          "base_uri": "https://localhost:8080/",
          "height": 269
        }
      },
      "source": [
        "import matplotlib.gridspec as gs\n",
        "\n",
        "plt.figure()\n",
        "gspec = gs.GridSpec(3,3)\n",
        "\n",
        "top_histogram = plt.subplot(gspec[0,1:])\n",
        "side_histogram = plt.subplot(gspec[1:, 0])\n",
        "lower_right = plt.subplot(gspec[1:,1:])"
      ],
      "execution_count": 0,
      "outputs": [
        {
          "output_type": "display_data",
          "data": {
            "image/png": "[encoded data removed]",
            "text/plain": [
              "<Figure size 432x288 with 3 Axes>"
            ]
          },
          "metadata": {
            "tags": []
          }
        }
      ]
    },
    {
      "cell_type": "code",
      "metadata": {
        "id": "lHuLIARqioMN",
        "colab_type": "code",
        "outputId": "2616aff3-1a3e-4ec3-803b-b1865e0b32b8",
        "colab": {
          "base_uri": "https://localhost:8080/",
          "height": 265
        }
      },
      "source": [
        "plt.figure()\n",
        "gspec = gs.GridSpec(3,3)\n",
        "\n",
        "top_histogram = plt.subplot(gspec[0,1:])\n",
        "side_histogram = plt.subplot(gspec[1:, 0])\n",
        "lower_right = plt.subplot(gspec[1:,1:])\n",
        "\n",
        "Y = np.random.normal(loc=0.0,scale=1.0,size=10000)\n",
        "X = np.random.random(size=10000)\n",
        "\n",
        "lower_right.scatter(X,Y)\n",
        "top_histogram.hist(X, bins=100)\n",
        "s = side_histogram.hist(Y, bins=100, orientation='horizontal')"
      ],
      "execution_count": 0,
      "outputs": [
        {
          "output_type": "display_data",
          "data": {
            "image/png": "[encoded data removed]",
            "text/plain": [
              "<Figure size 432x288 with 3 Axes>"
            ]
          },
          "metadata": {
            "tags": []
          }
        }
      ]
    },
    {
      "cell_type": "code",
      "metadata": {
        "id": "IJfcwcdrkvGo",
        "colab_type": "code",
        "outputId": "aa833e7e-a213-4bf4-fb22-8e7549db2af4",
        "colab": {
          "base_uri": "https://localhost:8080/",
          "height": 370
        }
      },
      "source": [
        "plt.figure()\n",
        "gspec = gs.GridSpec(3,3)\n",
        "\n",
        "top_histogram = plt.subplot(gspec[0,1:])\n",
        "side_histogram = plt.subplot(gspec[1:, 0])\n",
        "lower_right = plt.subplot(gspec[1:,1:])\n",
        "\n",
        "Y = np.random.normal(loc=0.0,scale=1.0,size=10000)\n",
        "X = np.random.random(size=10000)\n",
        "\n",
        "lower_right.scatter(X,Y)\n",
        "top_histogram.hist(X, bins=100)\n",
        "s = side_histogram.hist(Y, bins=100, orientation='horizontal')\n",
        "\n",
        "top_histogram.clear() \n",
        "top_histogram.hist(X, bins=100, normed=True)\n",
        "side_histogram.clear()\n",
        "side_histogram.hist(Y, bins=100, orientation='horizontal', normed=True)\n",
        "\n",
        "side_histogram.invert_xaxis()"
      ],
      "execution_count": 0,
      "outputs": [
        {
          "output_type": "stream",
          "text": [
            "/usr/local/lib/python3.6/dist-packages/ipykernel_launcher.py:16: MatplotlibDeprecationWarning: \n",
            "The 'normed' kwarg was deprecated in Matplotlib 2.1 and will be removed in 3.1. Use 'density' instead.\n",
            "  app.launch_new_instance()\n",
            "/usr/local/lib/python3.6/dist-packages/ipykernel_launcher.py:18: MatplotlibDeprecationWarning: \n",
            "The 'normed' kwarg was deprecated in Matplotlib 2.1 and will be removed in 3.1. Use 'density' instead.\n"
          ],
          "name": "stderr"
        },
        {
          "output_type": "display_data",
          "data": {
            "image/png": "[encoded data removed]",
            "text/plain": [
              "<Figure size 432x288 with 3 Axes>"
            ]
          },
          "metadata": {
            "tags": []
          }
        }
      ]
    },
    {
      "cell_type": "markdown",
      "metadata": {
        "id": "V02d-pOKLjKn",
        "colab_type": "text"
      },
      "source": [
        "### Box plots"
      ]
    },
    {
      "cell_type": "code",
      "metadata": {
        "id": "kFpFsfmGmWyP",
        "colab_type": "code",
        "colab": {}
      },
      "source": [
        "import pandas as pd\n",
        "import numpy as np\n",
        "\n",
        "normal_sample = np.random.normal(loc=0.0, scale=1.0, size=10000)\n",
        "random_sample = np.random.random(size=10000)\n",
        "gamma_sample = np.random.gamma(2, size=10000)\n",
        "\n",
        "df = pd.DataFrame({'normal': normal_sample,\n",
        "                   'random': random_sample,\n",
        "                   'gamma': gamma_sample})"
      ],
      "execution_count": 0,
      "outputs": []
    },
    {
      "cell_type": "code",
      "metadata": {
        "id": "_t_eGb6UPGxl",
        "colab_type": "code",
        "outputId": "9af603d9-2a5e-487c-ed9f-9939d800f4a1",
        "colab": {
          "base_uri": "https://localhost:8080/",
          "height": 297
        }
      },
      "source": [
        "df.describe()"
      ],
      "execution_count": 0,
      "outputs": [
        {
          "output_type": "execute_result",
          "data": {
            "text/html": [
              "<div>\n",
              "<style scoped>\n",
              "    .dataframe tbody tr th:only-of-type {\n",
              "        vertical-align: middle;\n",
              "    }\n",
              "\n",
              "    .dataframe tbody tr th {\n",
              "        vertical-align: top;\n",
              "    }\n",
              "\n",
              "    .dataframe thead th {\n",
              "        text-align: right;\n",
              "    }\n",
              "</style>\n",
              "<table border=\"1\" class=\"dataframe\">\n",
              "  <thead>\n",
              "    <tr style=\"text-align: right;\">\n",
              "      <th></th>\n",
              "      <th>normal</th>\n",
              "      <th>random</th>\n",
              "      <th>gamma</th>\n",
              "    </tr>\n",
              "  </thead>\n",
              "  <tbody>\n",
              "    <tr>\n",
              "      <th>count</th>\n",
              "      <td>10000.000000</td>\n",
              "      <td>1.000000e+04</td>\n",
              "      <td>10000.000000</td>\n",
              "    </tr>\n",
              "    <tr>\n",
              "      <th>mean</th>\n",
              "      <td>-0.008934</td>\n",
              "      <td>5.029832e-01</td>\n",
              "      <td>1.992202</td>\n",
              "    </tr>\n",
              "    <tr>\n",
              "      <th>std</th>\n",
              "      <td>0.987372</td>\n",
              "      <td>2.872293e-01</td>\n",
              "      <td>1.393211</td>\n",
              "    </tr>\n",
              "    <tr>\n",
              "      <th>min</th>\n",
              "      <td>-3.749181</td>\n",
              "      <td>8.280796e-07</td>\n",
              "      <td>0.015909</td>\n",
              "    </tr>\n",
              "    <tr>\n",
              "      <th>25%</th>\n",
              "      <td>-0.676560</td>\n",
              "      <td>2.555753e-01</td>\n",
              "      <td>0.975637</td>\n",
              "    </tr>\n",
              "    <tr>\n",
              "      <th>50%</th>\n",
              "      <td>-0.010825</td>\n",
              "      <td>5.032503e-01</td>\n",
              "      <td>1.673445</td>\n",
              "    </tr>\n",
              "    <tr>\n",
              "      <th>75%</th>\n",
              "      <td>0.657451</td>\n",
              "      <td>7.515849e-01</td>\n",
              "      <td>2.662393</td>\n",
              "    </tr>\n",
              "    <tr>\n",
              "      <th>max</th>\n",
              "      <td>4.251469</td>\n",
              "      <td>9.998617e-01</td>\n",
              "      <td>10.092703</td>\n",
              "    </tr>\n",
              "  </tbody>\n",
              "</table>\n",
              "</div>"
            ],
            "text/plain": [
              "             normal        random         gamma\n",
              "count  10000.000000  1.000000e+04  10000.000000\n",
              "mean      -0.008934  5.029832e-01      1.992202\n",
              "std        0.987372  2.872293e-01      1.393211\n",
              "min       -3.749181  8.280796e-07      0.015909\n",
              "25%       -0.676560  2.555753e-01      0.975637\n",
              "50%       -0.010825  5.032503e-01      1.673445\n",
              "75%        0.657451  7.515849e-01      2.662393\n",
              "max        4.251469  9.998617e-01     10.092703"
            ]
          },
          "metadata": {
            "tags": []
          },
          "execution_count": 16
        }
      ]
    },
    {
      "cell_type": "code",
      "metadata": {
        "id": "g2sFnREUPUfV",
        "colab_type": "code",
        "outputId": "64de117c-5244-4d0f-9bec-3d6135e7e77c",
        "colab": {
          "base_uri": "https://localhost:8080/",
          "height": 265
        }
      },
      "source": [
        "import matplotlib.pyplot as plt\n",
        "\n",
        "plt.figure()\n",
        "_ = plt.boxplot(df['normal'], whis='range')"
      ],
      "execution_count": 0,
      "outputs": [
        {
          "output_type": "display_data",
          "data": {
            "image/png": "[encoded data removed]",
            "text/plain": [
              "<Figure size 432x288 with 1 Axes>"
            ]
          },
          "metadata": {
            "tags": []
          }
        }
      ]
    },
    {
      "cell_type": "code",
      "metadata": {
        "id": "ZCGU_BYvP9gM",
        "colab_type": "code",
        "outputId": "1a5d2e1c-f17e-481a-91b0-a2453ff93ff8",
        "colab": {
          "base_uri": "https://localhost:8080/",
          "height": 265
        }
      },
      "source": [
        "plt.clf()\n",
        "_ = plt.boxplot([df['normal'], df['random'], df['gamma']], whis='range')"
      ],
      "execution_count": 0,
      "outputs": [
        {
          "output_type": "display_data",
          "data": {
            "image/png": "[encoded data removed]",
            "text/plain": [
              "<Figure size 432x288 with 1 Axes>"
            ]
          },
          "metadata": {
            "tags": []
          }
        }
      ]
    },
    {
      "cell_type": "code",
      "metadata": {
        "id": "34bSwO9TV4_r",
        "colab_type": "code",
        "outputId": "ba1ee953-ace4-4247-d7ae-231e23027bea",
        "colab": {
          "base_uri": "https://localhost:8080/",
          "height": 265
        }
      },
      "source": [
        "plt.figure()\n",
        "_plt = plt.hist(df['gamma'], bins=100)"
      ],
      "execution_count": 0,
      "outputs": [
        {
          "output_type": "display_data",
          "data": {
            "image/png": "[encoded data removed]",
            "text/plain": [
              "<Figure size 432x288 with 1 Axes>"
            ]
          },
          "metadata": {
            "tags": []
          }
        }
      ]
    },
    {
      "cell_type": "code",
      "metadata": {
        "id": "9JHe-O4zWjP5",
        "colab_type": "code",
        "outputId": "01f82ac3-dc33-45de-9284-86052e0a55ea",
        "colab": {
          "base_uri": "https://localhost:8080/",
          "height": 265
        }
      },
      "source": [
        "import mpl_toolkits.axes_grid1.inset_locator as mpl_il\n",
        "\n",
        "plt.figure()\n",
        "plt.boxplot([df['normal'], df['random'], df['gamma']], whis='range')\n",
        "ax2 = mpl_il.inset_axes(plt.gca(), width='60%', height='40%', loc=2)\n",
        "ax2.hist(df['gamma'], bins=100)\n",
        "ax2.margins(x=0.5)"
      ],
      "execution_count": 0,
      "outputs": [
        {
          "output_type": "display_data",
          "data": {
            "image/png": "[encoded data removed]",
            "text/plain": [
              "<Figure size 432x288 with 2 Axes>"
            ]
          },
          "metadata": {
            "tags": []
          }
        }
      ]
    },
    {
      "cell_type": "code",
      "metadata": {
        "id": "q7aRujvDaBFF",
        "colab_type": "code",
        "outputId": "82f79c9e-1070-4af5-ef47-bed90b7b8a5b",
        "colab": {
          "base_uri": "https://localhost:8080/",
          "height": 265
        }
      },
      "source": [
        "import mpl_toolkits.axes_grid1.inset_locator as mpl_il\n",
        "\n",
        "plt.figure()\n",
        "plt.boxplot([df['normal'], df['random'], df['gamma']], whis='range')\n",
        "ax2 = mpl_il.inset_axes(plt.gca(), width='60%', height='40%', loc=2)\n",
        "ax2.hist(df['gamma'], bins=100)\n",
        "ax2.margins(x=0.5)\n",
        "ax2.yaxis.tick_right()"
      ],
      "execution_count": 0,
      "outputs": [
        {
          "output_type": "display_data",
          "data": {
            "image/png": "[encoded data removed]",
            "text/plain": [
              "<Figure size 432x288 with 2 Axes>"
            ]
          },
          "metadata": {
            "tags": []
          }
        }
      ]
    },
    {
      "cell_type": "code",
      "metadata": {
        "id": "sLGdI1WFaZ6J",
        "colab_type": "code",
        "outputId": "07a8feb7-6505-41f7-b3b1-473ce8175a26",
        "colab": {
          "base_uri": "https://localhost:8080/",
          "height": 265
        }
      },
      "source": [
        "plt.figure()\n",
        "_ = plt.boxplot([df['normal'], df['random'], df['gamma']])"
      ],
      "execution_count": 0,
      "outputs": [
        {
          "output_type": "display_data",
          "data": {
            "image/png": "[encoded data removed]",
            "text/plain": [
              "<Figure size 432x288 with 1 Axes>"
            ]
          },
          "metadata": {
            "tags": []
          }
        }
      ]
    },
    {
      "cell_type": "markdown",
      "metadata": {
        "id": "ou8aWe58fKdc",
        "colab_type": "text"
      },
      "source": [
        "### Heatmaps"
      ]
    },
    {
      "cell_type": "code",
      "metadata": {
        "id": "U2PsCa7Pe7Q1",
        "colab_type": "code",
        "outputId": "8a1182f7-48db-462c-8375-64934c3874bd",
        "colab": {
          "base_uri": "https://localhost:8080/",
          "height": 265
        }
      },
      "source": [
        "plt.figure()\n",
        "\n",
        "Y = np.random.normal(loc=0.0,scale=1.0,size=10000)\n",
        "X = np.random.random(size=10000)\n",
        "_ = plt.hist2d(X,Y, bins=25)"
      ],
      "execution_count": 0,
      "outputs": [
        {
          "output_type": "display_data",
          "data": {
            "image/png": "[encoded data removed]",
            "text/plain": [
              "<Figure size 432x288 with 1 Axes>"
            ]
          },
          "metadata": {
            "tags": []
          }
        }
      ]
    },
    {
      "cell_type": "code",
      "metadata": {
        "id": "ePC1iYa3hUHX",
        "colab_type": "code",
        "outputId": "945b4b29-dccc-40ab-8c2f-b8f8460a8e57",
        "colab": {
          "base_uri": "https://localhost:8080/",
          "height": 286
        }
      },
      "source": [
        "plt.figure()\n",
        "_ = plt.hist2d(X,Y, bins=100)\n",
        "plt.colorbar()"
      ],
      "execution_count": 0,
      "outputs": [
        {
          "output_type": "execute_result",
          "data": {
            "text/plain": [
              "<matplotlib.colorbar.Colorbar at 0x7fba82461a20>"
            ]
          },
          "metadata": {
            "tags": []
          },
          "execution_count": 24
        },
        {
          "output_type": "display_data",
          "data": {
            "image/png": "[encoded data removed]",
            "text/plain": [
              "<Figure size 432x288 with 2 Axes>"
            ]
          },
          "metadata": {
            "tags": []
          }
        }
      ]
    },
    {
      "cell_type": "markdown",
      "metadata": {
        "id": "VGiRrt72iPkv",
        "colab_type": "text"
      },
      "source": [
        "### Animation"
      ]
    },
    {
      "cell_type": "code",
      "metadata": {
        "id": "-z-k8yTnhf7x",
        "colab_type": "code",
        "colab": {}
      },
      "source": [
        "import matplotlib.animation as animation\n",
        "\n",
        "n = 100\n",
        "x = np.random.randn(n)"
      ],
      "execution_count": 0,
      "outputs": []
    },
    {
      "cell_type": "code",
      "metadata": {
        "id": "jvNm4NRXisZ8",
        "colab_type": "code",
        "colab": {}
      },
      "source": [
        "def update(curr):\n",
        "    if curr == n: \n",
        "        a.event_source.stop()\n",
        "    plt.cla()\n",
        "    bins = np.arange(-4, 4, 0.5)\n",
        "    plt.hist(x[:curr], bins=bins)\n",
        "    plt.axis([-4,4,0,30])\n",
        "    plt.gca().set_title('Sampling the Normal Distribution')\n",
        "    plt.gca().set_ylabel('Frequency')\n",
        "    plt.gca().set_xlabel('Value')\n",
        "    plt.annotate('n = {}'.format(curr), [3,27])"
      ],
      "execution_count": 0,
      "outputs": []
    },
    {
      "cell_type": "code",
      "metadata": {
        "id": "Lmy_8We1kk8E",
        "colab_type": "code",
        "outputId": "a301aafe-31c4-4dd1-ca2b-16851ad18d42",
        "colab": {
          "base_uri": "https://localhost:8080/",
          "height": 295
        }
      },
      "source": [
        "fig = plt.figure()\n",
        "a = animation.FuncAnimation(fig, update, interval=100)"
      ],
      "execution_count": 0,
      "outputs": [
        {
          "output_type": "display_data",
          "data": {
            "image/png": "[encoded data removed]",
            "text/plain": [
              "<Figure size 432x288 with 1 Axes>"
            ]
          },
          "metadata": {
            "tags": []
          }
        }
      ]
    },
    {
      "cell_type": "markdown",
      "metadata": {
        "id": "o1yJWRODJpkT",
        "colab_type": "text"
      },
      "source": [
        "### Interactivity"
      ]
    },
    {
      "cell_type": "code",
      "metadata": {
        "id": "gX6UlaPik6hk",
        "colab_type": "code",
        "outputId": "c197b3da-043e-4a7b-99f2-eee0418902ca",
        "colab": {
          "base_uri": "https://localhost:8080/",
          "height": 265
        }
      },
      "source": [
        "plt.figure()\n",
        "data = np.random.rand(10)\n",
        "plt.plot(data)\n",
        "\n",
        "def onclick(event):\n",
        "  plt.cla()\n",
        "  plt.plot(data)\n",
        "  plt.gca().set_title(\"Event at pixels {}, {} {}and data {}, {}\".format(event.x,\n",
        "                                                                        event.y,\n",
        "                                                                        '\\n',\n",
        "                                                                        event.xdata,\n",
        "                                                                        event.ydata))\n",
        "  \n",
        "plt.gcf().canvas.mpl_connect('button_press_event', onclick)\n",
        "plt.show()"
      ],
      "execution_count": 0,
      "outputs": [
        {
          "output_type": "display_data",
          "data": {
            "image/png": "[encoded data removed]",
            "text/plain": [
              "<Figure size 432x288 with 1 Axes>"
            ]
          },
          "metadata": {
            "tags": []
          }
        }
      ]
    },
    {
      "cell_type": "code",
      "metadata": {
        "id": "-nGJxRBsMtUg",
        "colab_type": "code",
        "outputId": "4c9ec07d-0ef4-424a-e41f-e61d77da65c4",
        "colab": {
          "base_uri": "https://localhost:8080/",
          "height": 359
        }
      },
      "source": [
        "from random import shuffle\n",
        "origins = ['China', 'Brazil', 'India', 'USA', 'Canada', \n",
        "           'UK', 'Germany', 'Iraq', 'Chile', 'Mexico']\n",
        "shuffle(origins)\n",
        "\n",
        "df = pd.DataFrame({'height': np.random.rand(10),\n",
        "                   'weight': np.random.rand(10),\n",
        "                   'origins': origins})\n",
        "\n",
        "df"
      ],
      "execution_count": 0,
      "outputs": [
        {
          "output_type": "execute_result",
          "data": {
            "text/html": [
              "<div>\n",
              "<style scoped>\n",
              "    .dataframe tbody tr th:only-of-type {\n",
              "        vertical-align: middle;\n",
              "    }\n",
              "\n",
              "    .dataframe tbody tr th {\n",
              "        vertical-align: top;\n",
              "    }\n",
              "\n",
              "    .dataframe thead th {\n",
              "        text-align: right;\n",
              "    }\n",
              "</style>\n",
              "<table border=\"1\" class=\"dataframe\">\n",
              "  <thead>\n",
              "    <tr style=\"text-align: right;\">\n",
              "      <th></th>\n",
              "      <th>height</th>\n",
              "      <th>weight</th>\n",
              "      <th>origins</th>\n",
              "    </tr>\n",
              "  </thead>\n",
              "  <tbody>\n",
              "    <tr>\n",
              "      <th>0</th>\n",
              "      <td>0.712099</td>\n",
              "      <td>0.162973</td>\n",
              "      <td>Iraq</td>\n",
              "    </tr>\n",
              "    <tr>\n",
              "      <th>1</th>\n",
              "      <td>0.121946</td>\n",
              "      <td>0.753138</td>\n",
              "      <td>Canada</td>\n",
              "    </tr>\n",
              "    <tr>\n",
              "      <th>2</th>\n",
              "      <td>0.925190</td>\n",
              "      <td>0.022776</td>\n",
              "      <td>Mexico</td>\n",
              "    </tr>\n",
              "    <tr>\n",
              "      <th>3</th>\n",
              "      <td>0.402445</td>\n",
              "      <td>0.781079</td>\n",
              "      <td>USA</td>\n",
              "    </tr>\n",
              "    <tr>\n",
              "      <th>4</th>\n",
              "      <td>0.172056</td>\n",
              "      <td>0.496688</td>\n",
              "      <td>Brazil</td>\n",
              "    </tr>\n",
              "    <tr>\n",
              "      <th>5</th>\n",
              "      <td>0.923081</td>\n",
              "      <td>0.448441</td>\n",
              "      <td>Chile</td>\n",
              "    </tr>\n",
              "    <tr>\n",
              "      <th>6</th>\n",
              "      <td>0.514652</td>\n",
              "      <td>0.864588</td>\n",
              "      <td>India</td>\n",
              "    </tr>\n",
              "    <tr>\n",
              "      <th>7</th>\n",
              "      <td>0.653835</td>\n",
              "      <td>0.130672</td>\n",
              "      <td>China</td>\n",
              "    </tr>\n",
              "    <tr>\n",
              "      <th>8</th>\n",
              "      <td>0.037060</td>\n",
              "      <td>0.455432</td>\n",
              "      <td>Germany</td>\n",
              "    </tr>\n",
              "    <tr>\n",
              "      <th>9</th>\n",
              "      <td>0.603731</td>\n",
              "      <td>0.248031</td>\n",
              "      <td>UK</td>\n",
              "    </tr>\n",
              "  </tbody>\n",
              "</table>\n",
              "</div>"
            ],
            "text/plain": [
              "     height    weight  origins\n",
              "0  0.712099  0.162973     Iraq\n",
              "1  0.121946  0.753138   Canada\n",
              "2  0.925190  0.022776   Mexico\n",
              "3  0.402445  0.781079      USA\n",
              "4  0.172056  0.496688   Brazil\n",
              "5  0.923081  0.448441    Chile\n",
              "6  0.514652  0.864588    India\n",
              "7  0.653835  0.130672    China\n",
              "8  0.037060  0.455432  Germany\n",
              "9  0.603731  0.248031       UK"
            ]
          },
          "metadata": {
            "tags": []
          },
          "execution_count": 48
        }
      ]
    },
    {
      "cell_type": "code",
      "metadata": {
        "id": "bS7QVplfOGoC",
        "colab_type": "code",
        "outputId": "1ec8f9fe-24fb-4384-d68f-2fb2be32c86a",
        "colab": {
          "base_uri": "https://localhost:8080/",
          "height": 296
        }
      },
      "source": [
        "plt.figure()\n",
        "plt.scatter(df['height'], df['weight'], picker=5)\n",
        "plt.gca().set_ylabel('Weight')\n",
        "plt.gca().set_xlabel('height')\n",
        "\n",
        "def onpick(event):\n",
        "  origin = df.iloc[event.ind[0]['origin']]\n",
        "  plt.gca().set_title('Selected item came from {}'.format(origin))\n",
        "\n",
        "plt.gcf().canvas.mpl_connect('pick_event', onpick)"
      ],
      "execution_count": 0,
      "outputs": [
        {
          "output_type": "execute_result",
          "data": {
            "text/plain": [
              "5"
            ]
          },
          "metadata": {
            "tags": []
          },
          "execution_count": 52
        },
        {
          "output_type": "display_data",
          "data": {
            "image/png": "[encoded data removed]",
            "text/plain": [
              "<Figure size 432x288 with 1 Axes>"
            ]
          },
          "metadata": {
            "tags": []
          }
        }
      ]
    },
    {
      "cell_type": "code",
      "metadata": {
        "id": "vu4xUg9rPqUL",
        "colab_type": "code",
        "colab": {}
      },
      "source": [
        ""
      ],
      "execution_count": 0,
      "outputs": []
    }
  ]
}
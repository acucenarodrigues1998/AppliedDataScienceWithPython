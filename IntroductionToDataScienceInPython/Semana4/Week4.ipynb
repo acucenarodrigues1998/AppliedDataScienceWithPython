{
  "nbformat": 4,
  "nbformat_minor": 0,
  "metadata": {
    "colab": {
      "name": "Week4.ipynb",
      "provenance": [],
      "collapsed_sections": []
    },
    "kernelspec": {
      "name": "python3",
      "display_name": "Python 3"
    }
  },
  "cells": [
    {
      "cell_type": "markdown",
      "metadata": {
        "id": "iJ9rmXkWAguI",
        "colab_type": "text"
      },
      "source": [
        "## Distribuições no Pandas"
      ]
    },
    {
      "cell_type": "markdown",
      "metadata": {
        "id": "e4Gg1qpBAne7",
        "colab_type": "text"
      },
      "source": [
        "#### Distribuições: Conjunto de todas as variáveis aleatórias possíveis.\n",
        "Referência: [Think Stats, Allen B. Downey](https://greenteapress.com/thinkstats2/thinkstats2.pdf)\n",
        "* Distribuição Binomial\n",
        "  * Duas possibilidades de saída\n",
        "  * Discreta e Binária\n",
        "\n",
        "\n",
        "\n",
        "\n",
        "\n"
      ]
    },
    {
      "cell_type": "code",
      "metadata": {
        "id": "vb4413ra5Pxz",
        "colab_type": "code",
        "colab": {}
      },
      "source": [
        "import pandas as pd\n",
        "import numpy as np"
      ],
      "execution_count": 0,
      "outputs": []
    },
    {
      "cell_type": "code",
      "metadata": {
        "id": "UPEtXXGo83Or",
        "colab_type": "code",
        "outputId": "a50c914d-0f8a-4e8c-86e5-9f29fa78b773",
        "colab": {
          "base_uri": "https://localhost:8080/",
          "height": 34
        }
      },
      "source": [
        "np.random.binomial(1,0.5)"
      ],
      "execution_count": 2,
      "outputs": [
        {
          "output_type": "execute_result",
          "data": {
            "text/plain": [
              "0"
            ]
          },
          "metadata": {
            "tags": []
          },
          "execution_count": 2
        }
      ]
    },
    {
      "cell_type": "code",
      "metadata": {
        "id": "ivvaCxXI874q",
        "colab_type": "code",
        "outputId": "9eb2d921-a78d-469f-8f35-e2b805972a01",
        "colab": {
          "base_uri": "https://localhost:8080/",
          "height": 34
        }
      },
      "source": [
        "np.random.binomial(1000, 0.5)/1000"
      ],
      "execution_count": 3,
      "outputs": [
        {
          "output_type": "execute_result",
          "data": {
            "text/plain": [
              "0.498"
            ]
          },
          "metadata": {
            "tags": []
          },
          "execution_count": 3
        }
      ]
    },
    {
      "cell_type": "code",
      "metadata": {
        "id": "MMB52zXL9Iyi",
        "colab_type": "code",
        "outputId": "c1aa31c9-511a-41cd-8212-b24faaad758b",
        "colab": {
          "base_uri": "https://localhost:8080/",
          "height": 34
        }
      },
      "source": [
        "chance_de_tornado = 0.01/100\n",
        "np.random.binomial(100000, chance_de_tornado)"
      ],
      "execution_count": 4,
      "outputs": [
        {
          "output_type": "execute_result",
          "data": {
            "text/plain": [
              "5"
            ]
          },
          "metadata": {
            "tags": []
          },
          "execution_count": 4
        }
      ]
    },
    {
      "cell_type": "code",
      "metadata": {
        "id": "DfxZoh50-pu8",
        "colab_type": "code",
        "outputId": "aa9c3c96-4f02-4183-abed-482f156c9757",
        "colab": {
          "base_uri": "https://localhost:8080/",
          "height": 34
        }
      },
      "source": [
        "chance_de_tornado = 0.01\n",
        "\n",
        "tornados = np.random.binomial(1, chance_de_tornado, 1000000)\n",
        "\n",
        "two_days_in_a_row = 0\n",
        "for j in range(1, len(tornados)-1):\n",
        "  if tornados[j] == 1 and tornados[j-1] == 1:\n",
        "    two_days_in_a_row += 1\n",
        "\n",
        "print('{} tornadoes back to back in {} years'.format(two_days_in_a_row, 1000000/365))"
      ],
      "execution_count": 5,
      "outputs": [
        {
          "output_type": "stream",
          "text": [
            "95 tornadoes back to back in 2739.72602739726 years\n"
          ],
          "name": "stdout"
        }
      ]
    },
    {
      "cell_type": "markdown",
      "metadata": {
        "id": "7KIMVs9whvqn",
        "colab_type": "text"
      },
      "source": [
        "* Distribuição Uniforme\n",
        "  * Todos os valores possuem a mesma probabilidade de aparecer.\n",
        "* Distribuição Normal\n",
        "  * Máxima probsbilidade de ocorrer é igual a zero."
      ]
    },
    {
      "cell_type": "code",
      "metadata": {
        "id": "9NCGGwjPANxK",
        "colab_type": "code",
        "outputId": "d724df53-551f-450d-87c1-e4cfadcf6f5e",
        "colab": {
          "base_uri": "https://localhost:8080/",
          "height": 34
        }
      },
      "source": [
        "np.random.uniform(0, 1)"
      ],
      "execution_count": 6,
      "outputs": [
        {
          "output_type": "execute_result",
          "data": {
            "text/plain": [
              "0.7098760208280819"
            ]
          },
          "metadata": {
            "tags": []
          },
          "execution_count": 6
        }
      ]
    },
    {
      "cell_type": "code",
      "metadata": {
        "id": "noi3AsQSCWcU",
        "colab_type": "code",
        "outputId": "01483dd8-7605-4385-b159-f5cd7a7c4545",
        "colab": {
          "base_uri": "https://localhost:8080/",
          "height": 34
        }
      },
      "source": [
        "np.random.normal(0.75)"
      ],
      "execution_count": 7,
      "outputs": [
        {
          "output_type": "execute_result",
          "data": {
            "text/plain": [
              "0.05160374251524924"
            ]
          },
          "metadata": {
            "tags": []
          },
          "execution_count": 7
        }
      ]
    },
    {
      "cell_type": "markdown",
      "metadata": {
        "id": "Z1SA7mw_CVUH",
        "colab_type": "text"
      },
      "source": [
        "##### Fórmula para o desvio padrão:\n",
        "\n",
        "$$\\sqrt{\\frac{1}{N} \\sum_{i=1}^N (x_i - \\overline{x})^2}$$"
      ]
    },
    {
      "cell_type": "code",
      "metadata": {
        "id": "MnUa2LfrivJa",
        "colab_type": "code",
        "outputId": "88e95ebb-f6d9-4f61-a62f-845380ba4fe5",
        "colab": {
          "base_uri": "https://localhost:8080/",
          "height": 34
        }
      },
      "source": [
        "distribution = np.random.normal(0.75, size=1000)\n",
        "\n",
        "np.sqrt(np.sum((np.mean(distribution)-distribution)**2)/len(distribution))"
      ],
      "execution_count": 8,
      "outputs": [
        {
          "output_type": "execute_result",
          "data": {
            "text/plain": [
              "0.9798986506249234"
            ]
          },
          "metadata": {
            "tags": []
          },
          "execution_count": 8
        }
      ]
    },
    {
      "cell_type": "code",
      "metadata": {
        "id": "H4WgMQspjYCY",
        "colab_type": "code",
        "outputId": "25ca060c-cbb3-4acb-a7e9-7b0747430f74",
        "colab": {
          "base_uri": "https://localhost:8080/",
          "height": 34
        }
      },
      "source": [
        "np.std(distribution)"
      ],
      "execution_count": 9,
      "outputs": [
        {
          "output_type": "execute_result",
          "data": {
            "text/plain": [
              "0.9798986506249234"
            ]
          },
          "metadata": {
            "tags": []
          },
          "execution_count": 9
        }
      ]
    },
    {
      "cell_type": "code",
      "metadata": {
        "id": "-wyBYt-YkCQz",
        "colab_type": "code",
        "outputId": "de8313a8-811b-4e62-bb1e-e06a00b6f9b1",
        "colab": {
          "base_uri": "https://localhost:8080/",
          "height": 34
        }
      },
      "source": [
        "import scipy.stats as stats\n",
        "\n",
        "stats.kurtosis(distribution)"
      ],
      "execution_count": 10,
      "outputs": [
        {
          "output_type": "execute_result",
          "data": {
            "text/plain": [
              "-0.20992622427117258"
            ]
          },
          "metadata": {
            "tags": []
          },
          "execution_count": 10
        }
      ]
    },
    {
      "cell_type": "markdown",
      "metadata": {
        "id": "BJVda51cp0oI",
        "colab_type": "text"
      },
      "source": [
        "* Distribuição Qui-Quadrado\n",
        "  * Grau de Liberdade\n",
        "    * Relacionado ao número de amostras tomadas a partir de uma população normal.\n",
        "  * Conforme o grau de liberdade aumenta, o formato da distribuição muda.\n",
        "\n",
        "* Distribuições Bimodais\n",
        "  * Distribuições com dois pontos máximos.\n",
        "  * Mistura de modelos gaussianos."
      ]
    },
    {
      "cell_type": "code",
      "metadata": {
        "id": "3OGiAPeskVKM",
        "colab_type": "code",
        "outputId": "1307983f-6f0c-4c10-cf82-279cd12019e9",
        "colab": {
          "base_uri": "https://localhost:8080/",
          "height": 34
        }
      },
      "source": [
        "chi_squared_df2 = np.random.chisquare(2, size=10000)\n",
        "stats.skew(chi_squared_df2)"
      ],
      "execution_count": 11,
      "outputs": [
        {
          "output_type": "execute_result",
          "data": {
            "text/plain": [
              "1.9753056516458223"
            ]
          },
          "metadata": {
            "tags": []
          },
          "execution_count": 11
        }
      ]
    },
    {
      "cell_type": "code",
      "metadata": {
        "id": "bnIqqL37nMOI",
        "colab_type": "code",
        "outputId": "24d243f8-4164-43c1-a218-b8a8104ef8c1",
        "colab": {
          "base_uri": "https://localhost:8080/",
          "height": 34
        }
      },
      "source": [
        "chi_squared_df5 = np.random.chisquare(5, size=10000)\n",
        "stats.skew(chi_squared_df5)"
      ],
      "execution_count": 12,
      "outputs": [
        {
          "output_type": "execute_result",
          "data": {
            "text/plain": [
              "1.2422138183462437"
            ]
          },
          "metadata": {
            "tags": []
          },
          "execution_count": 12
        }
      ]
    },
    {
      "cell_type": "code",
      "metadata": {
        "id": "2qTqEzi4nZQ4",
        "colab_type": "code",
        "outputId": "84d56488-1d1e-445b-ccbd-2bba226c2c6e",
        "colab": {
          "base_uri": "https://localhost:8080/",
          "height": 282
        }
      },
      "source": [
        "%matplotlib inline\n",
        "import matplotlib.pyplot as plt\n",
        "\n",
        "output = plt.hist([chi_squared_df2,chi_squared_df5], bins=50, histtype='step', label=['2 graus de liberdade', '5 graus de liberdade'])\n",
        "plt.legend(loc='upper right')\n"
      ],
      "execution_count": 13,
      "outputs": [
        {
          "output_type": "execute_result",
          "data": {
            "text/plain": [
              "<matplotlib.legend.Legend at 0x7fee2b9087f0>"
            ]
          },
          "metadata": {
            "tags": []
          },
          "execution_count": 13
        },
        {
          "output_type": "display_data",
          "data": {
            "image/png": "[encoded data removed]",
            "text/plain": [
              "<Figure size 432x288 with 1 Axes>"
            ]
          },
          "metadata": {
            "tags": []
          }
        }
      ]
    },
    {
      "cell_type": "markdown",
      "metadata": {
        "id": "Pf0utugoqfmO",
        "colab_type": "text"
      },
      "source": [
        "## Teste de Hipóteses em Python"
      ]
    },
    {
      "cell_type": "markdown",
      "metadata": {
        "id": "-at2s9X2cYJD",
        "colab_type": "text"
      },
      "source": [
        "* Hipótese é uma declaração que pode ser testada.\n",
        "  * Hipótese Alternativa: Nossa ideia.\n",
        "  * Hipótese Nula: A alternativa da nossa ideia.\n",
        "\n",
        "* Teste T\n",
        "\n",
        "* Nível de Significância ($\\alpha$)\n",
        "  * Limite de quanto de uma chance estamos dispostos a aceitar.\n",
        "  * Valores típicos em Ciências Sociais: 0.1, 0.05 ou 0.01\n",
        "\n",
        "* p-Hacking\n",
        "  * Correlações falsas ao invés de resultados generalizáveis\n",
        "  * Ocorre quando são realizados muitos testes T\n",
        "  * Formas de Resolver:\n",
        "    * Correção Bonferoni\n",
        "    * Conjuntos de Treino e Teste\n",
        "    * Pré-Registro do experimento "
      ]
    },
    {
      "cell_type": "code",
      "metadata": {
        "id": "tnPqjLz-Sclt",
        "colab_type": "code",
        "colab": {
          "base_uri": "https://localhost:8080/",
          "height": 122
        },
        "outputId": "dbe45325-73bc-4dd0-b185-4df7166361fd"
      },
      "source": [
        "from google.colab import drive\n",
        "drive.mount('/content/drive')"
      ],
      "execution_count": 14,
      "outputs": [
        {
          "output_type": "stream",
          "text": [
            "Go to this URL in a browser: https://accounts.google.com/o/oauth2/auth?client_id=947318989803-6bn6qk8qdgf4n4g3pfee6491hc0brc4i.apps.googleusercontent.com&redirect_uri=urn%3aietf%3awg%3aoauth%3a2.0%3aoob&response_type=code&scope=email%20https%3a%2f%2fwww.googleapis.com%2fauth%2fdocs.test%20https%3a%2f%2fwww.googleapis.com%2fauth%2fdrive%20https%3a%2f%2fwww.googleapis.com%2fauth%2fdrive.photos.readonly%20https%3a%2f%2fwww.googleapis.com%2fauth%2fpeopleapi.readonly\n",
            "\n",
            "Enter your authorization code:\n",
            "··········\n",
            "Mounted at /content/drive\n"
          ],
          "name": "stdout"
        }
      ]
    },
    {
      "cell_type": "code",
      "metadata": {
        "id": "O2GRdpf_oEXt",
        "colab_type": "code",
        "colab": {}
      },
      "source": [
        "df = pd.read_csv('/content/drive/My Drive/grades.csv')"
      ],
      "execution_count": 0,
      "outputs": []
    },
    {
      "cell_type": "code",
      "metadata": {
        "id": "l6hViekHTHA5",
        "colab_type": "code",
        "colab": {
          "base_uri": "https://localhost:8080/",
          "height": 479
        },
        "outputId": "1cf77b24-fb6e-4bdb-c6a6-19d41d3b5f1b"
      },
      "source": [
        "df.head()"
      ],
      "execution_count": 16,
      "outputs": [
        {
          "output_type": "execute_result",
          "data": {
            "text/html": [
              "<div>\n",
              "<style scoped>\n",
              "    .dataframe tbody tr th:only-of-type {\n",
              "        vertical-align: middle;\n",
              "    }\n",
              "\n",
              "    .dataframe tbody tr th {\n",
              "        vertical-align: top;\n",
              "    }\n",
              "\n",
              "    .dataframe thead th {\n",
              "        text-align: right;\n",
              "    }\n",
              "</style>\n",
              "<table border=\"1\" class=\"dataframe\">\n",
              "  <thead>\n",
              "    <tr style=\"text-align: right;\">\n",
              "      <th></th>\n",
              "      <th>student_id</th>\n",
              "      <th>assignment1_grade</th>\n",
              "      <th>assignment1_submission</th>\n",
              "      <th>assignment2_grade</th>\n",
              "      <th>assignment2_submission</th>\n",
              "      <th>assignment3_grade</th>\n",
              "      <th>assignment3_submission</th>\n",
              "      <th>assignment4_grade</th>\n",
              "      <th>assignment4_submission</th>\n",
              "      <th>assignment5_grade</th>\n",
              "      <th>assignment5_submission</th>\n",
              "      <th>assignment6_grade</th>\n",
              "      <th>assignment6_submission</th>\n",
              "    </tr>\n",
              "  </thead>\n",
              "  <tbody>\n",
              "    <tr>\n",
              "      <th>0</th>\n",
              "      <td>B73F2C11-70F0-E37D-8B10-1D20AFED50B1</td>\n",
              "      <td>92.733946</td>\n",
              "      <td>2015-11-02 06:55:34.282000000</td>\n",
              "      <td>83.030552</td>\n",
              "      <td>2015-11-09 02:22:58.938000000</td>\n",
              "      <td>67.164441</td>\n",
              "      <td>2015-11-12 08:58:33.998000000</td>\n",
              "      <td>53.011553</td>\n",
              "      <td>2015-11-16 01:21:24.663000000</td>\n",
              "      <td>47.710398</td>\n",
              "      <td>2015-11-20 13:24:59.692000000</td>\n",
              "      <td>38.168318</td>\n",
              "      <td>2015-11-22 18:31:15.934000000</td>\n",
              "    </tr>\n",
              "    <tr>\n",
              "      <th>1</th>\n",
              "      <td>98A0FAE0-A19A-13D2-4BB5-CFBFD94031D1</td>\n",
              "      <td>86.790821</td>\n",
              "      <td>2015-11-29 14:57:44.429000000</td>\n",
              "      <td>86.290821</td>\n",
              "      <td>2015-12-06 17:41:18.449000000</td>\n",
              "      <td>69.772657</td>\n",
              "      <td>2015-12-10 08:54:55.904000000</td>\n",
              "      <td>55.098125</td>\n",
              "      <td>2015-12-13 17:32:30.941000000</td>\n",
              "      <td>49.588313</td>\n",
              "      <td>2015-12-19 23:26:39.285000000</td>\n",
              "      <td>44.629482</td>\n",
              "      <td>2015-12-21 17:07:24.275000000</td>\n",
              "    </tr>\n",
              "    <tr>\n",
              "      <th>2</th>\n",
              "      <td>D0F62040-CEB0-904C-F563-2F8620916C4E</td>\n",
              "      <td>85.512541</td>\n",
              "      <td>2016-01-09 05:36:02.389000000</td>\n",
              "      <td>85.512541</td>\n",
              "      <td>2016-01-09 06:39:44.416000000</td>\n",
              "      <td>68.410033</td>\n",
              "      <td>2016-01-15 20:22:45.882000000</td>\n",
              "      <td>54.728026</td>\n",
              "      <td>2016-01-11 12:41:50.749000000</td>\n",
              "      <td>49.255224</td>\n",
              "      <td>2016-01-11 17:31:12.489000000</td>\n",
              "      <td>44.329701</td>\n",
              "      <td>2016-01-17 16:24:42.765000000</td>\n",
              "    </tr>\n",
              "    <tr>\n",
              "      <th>3</th>\n",
              "      <td>FFDF2B2C-F514-EF7F-6538-A6A53518E9DC</td>\n",
              "      <td>86.030665</td>\n",
              "      <td>2016-04-30 06:50:39.801000000</td>\n",
              "      <td>68.824532</td>\n",
              "      <td>2016-04-30 17:20:38.727000000</td>\n",
              "      <td>61.942079</td>\n",
              "      <td>2016-05-12 07:47:16.326000000</td>\n",
              "      <td>49.553663</td>\n",
              "      <td>2016-05-07 16:09:20.485000000</td>\n",
              "      <td>49.553663</td>\n",
              "      <td>2016-05-24 12:51:18.016000000</td>\n",
              "      <td>44.598297</td>\n",
              "      <td>2016-05-26 08:09:12.058000000</td>\n",
              "    </tr>\n",
              "    <tr>\n",
              "      <th>4</th>\n",
              "      <td>5ECBEEB6-F1CE-80AE-3164-E45E99473FB4</td>\n",
              "      <td>64.813800</td>\n",
              "      <td>2015-12-13 17:06:10.750000000</td>\n",
              "      <td>51.491040</td>\n",
              "      <td>2015-12-14 12:25:12.056000000</td>\n",
              "      <td>41.932832</td>\n",
              "      <td>2015-12-29 14:25:22.594000000</td>\n",
              "      <td>36.929549</td>\n",
              "      <td>2015-12-28 01:29:55.901000000</td>\n",
              "      <td>33.236594</td>\n",
              "      <td>2015-12-29 14:46:06.628000000</td>\n",
              "      <td>33.236594</td>\n",
              "      <td>2016-01-05 01:06:59.546000000</td>\n",
              "    </tr>\n",
              "  </tbody>\n",
              "</table>\n",
              "</div>"
            ],
            "text/plain": [
              "                             student_id  ...         assignment6_submission\n",
              "0  B73F2C11-70F0-E37D-8B10-1D20AFED50B1  ...  2015-11-22 18:31:15.934000000\n",
              "1  98A0FAE0-A19A-13D2-4BB5-CFBFD94031D1  ...  2015-12-21 17:07:24.275000000\n",
              "2  D0F62040-CEB0-904C-F563-2F8620916C4E  ...  2016-01-17 16:24:42.765000000\n",
              "3  FFDF2B2C-F514-EF7F-6538-A6A53518E9DC  ...  2016-05-26 08:09:12.058000000\n",
              "4  5ECBEEB6-F1CE-80AE-3164-E45E99473FB4  ...  2016-01-05 01:06:59.546000000\n",
              "\n",
              "[5 rows x 13 columns]"
            ]
          },
          "metadata": {
            "tags": []
          },
          "execution_count": 16
        }
      ]
    },
    {
      "cell_type": "code",
      "metadata": {
        "id": "WZm4aoMiTJt8",
        "colab_type": "code",
        "colab": {
          "base_uri": "https://localhost:8080/",
          "height": 34
        },
        "outputId": "979b51e7-53b2-4de0-e27a-f2d1b61ccc36"
      },
      "source": [
        "len(df)"
      ],
      "execution_count": 17,
      "outputs": [
        {
          "output_type": "execute_result",
          "data": {
            "text/plain": [
              "2315"
            ]
          },
          "metadata": {
            "tags": []
          },
          "execution_count": 17
        }
      ]
    },
    {
      "cell_type": "code",
      "metadata": {
        "id": "UKrO8f2pTgcz",
        "colab_type": "code",
        "colab": {}
      },
      "source": [
        "early = df[df['assignment1_submission']<='2015-12-31']\n",
        "late = df[df['assignment1_submission']>'2015-12-31']"
      ],
      "execution_count": 0,
      "outputs": []
    },
    {
      "cell_type": "code",
      "metadata": {
        "id": "UNdzgSdnTwOl",
        "colab_type": "code",
        "colab": {
          "base_uri": "https://localhost:8080/",
          "height": 136
        },
        "outputId": "bcdb3b36-65f0-42c3-fb0d-2020bc7b4490"
      },
      "source": [
        "early.mean()"
      ],
      "execution_count": 19,
      "outputs": [
        {
          "output_type": "execute_result",
          "data": {
            "text/plain": [
              "assignment1_grade    74.972741\n",
              "assignment2_grade    67.252190\n",
              "assignment3_grade    61.129050\n",
              "assignment4_grade    54.157620\n",
              "assignment5_grade    48.634643\n",
              "assignment6_grade    43.838980\n",
              "dtype: float64"
            ]
          },
          "metadata": {
            "tags": []
          },
          "execution_count": 19
        }
      ]
    },
    {
      "cell_type": "code",
      "metadata": {
        "id": "RhkqKZD_Tze6",
        "colab_type": "code",
        "colab": {
          "base_uri": "https://localhost:8080/",
          "height": 136
        },
        "outputId": "0fc9730f-9635-4f23-cf6b-52f51f505262"
      },
      "source": [
        "late.mean()"
      ],
      "execution_count": 20,
      "outputs": [
        {
          "output_type": "execute_result",
          "data": {
            "text/plain": [
              "assignment1_grade    74.017429\n",
              "assignment2_grade    66.370822\n",
              "assignment3_grade    60.023244\n",
              "assignment4_grade    54.058138\n",
              "assignment5_grade    48.599402\n",
              "assignment6_grade    43.844384\n",
              "dtype: float64"
            ]
          },
          "metadata": {
            "tags": []
          },
          "execution_count": 20
        }
      ]
    },
    {
      "cell_type": "code",
      "metadata": {
        "id": "gXD8UqhfT_f3",
        "colab_type": "code",
        "colab": {}
      },
      "source": [
        "from scipy import stats\n",
        "stats.ttest_ind?"
      ],
      "execution_count": 0,
      "outputs": []
    },
    {
      "cell_type": "code",
      "metadata": {
        "id": "zG4fn5haWsPX",
        "colab_type": "code",
        "colab": {
          "base_uri": "https://localhost:8080/",
          "height": 34
        },
        "outputId": "3c69ecf6-4ae9-4709-8cca-3bbf9f732787"
      },
      "source": [
        "stats.ttest_ind(early['assignment1_grade'], late['assignment1_grade'])"
      ],
      "execution_count": 23,
      "outputs": [
        {
          "output_type": "execute_result",
          "data": {
            "text/plain": [
              "Ttest_indResult(statistic=1.400549944897566, pvalue=0.16148283016060577)"
            ]
          },
          "metadata": {
            "tags": []
          },
          "execution_count": 23
        }
      ]
    },
    {
      "cell_type": "code",
      "metadata": {
        "id": "u1FTbKMCXtWV",
        "colab_type": "code",
        "colab": {
          "base_uri": "https://localhost:8080/",
          "height": 34
        },
        "outputId": "124fd2fc-306f-4ed2-9010-354714d250b4"
      },
      "source": [
        "stats.ttest_ind(early['assignment2_grade'], late['assignment2_grade'])"
      ],
      "execution_count": 24,
      "outputs": [
        {
          "output_type": "execute_result",
          "data": {
            "text/plain": [
              "Ttest_indResult(statistic=1.3239868220912567, pvalue=0.18563824610067967)"
            ]
          },
          "metadata": {
            "tags": []
          },
          "execution_count": 24
        }
      ]
    },
    {
      "cell_type": "code",
      "metadata": {
        "id": "6LtWhtwHYCby",
        "colab_type": "code",
        "colab": {
          "base_uri": "https://localhost:8080/",
          "height": 34
        },
        "outputId": "d1947311-ac4e-4bac-a6e8-f19fe08115aa"
      },
      "source": [
        "stats.ttest_ind(early['assignment3_grade'], late['assignment3_grade'])"
      ],
      "execution_count": 25,
      "outputs": [
        {
          "output_type": "execute_result",
          "data": {
            "text/plain": [
              "Ttest_indResult(statistic=1.7116160037010733, pvalue=0.08710151634155668)"
            ]
          },
          "metadata": {
            "tags": []
          },
          "execution_count": 25
        }
      ]
    },
    {
      "cell_type": "code",
      "metadata": {
        "id": "pu8ZY2iKYF2y",
        "colab_type": "code",
        "colab": {
          "base_uri": "https://localhost:8080/",
          "height": 34
        },
        "outputId": "ccf51deb-b057-454d-e5f1-c001d16bfdee"
      },
      "source": [
        "stats.ttest_ind(early['assignment4_grade'], late['assignment4_grade'])"
      ],
      "execution_count": 26,
      "outputs": [
        {
          "output_type": "execute_result",
          "data": {
            "text/plain": [
              "Ttest_indResult(statistic=0.16232182017140787, pvalue=0.8710666110447575)"
            ]
          },
          "metadata": {
            "tags": []
          },
          "execution_count": 26
        }
      ]
    },
    {
      "cell_type": "code",
      "metadata": {
        "id": "Vbl-DOmHYI6W",
        "colab_type": "code",
        "colab": {}
      },
      "source": [
        ""
      ],
      "execution_count": 0,
      "outputs": []
    }
  ]
}